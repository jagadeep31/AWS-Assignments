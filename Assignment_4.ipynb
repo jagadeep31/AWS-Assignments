{
  "nbformat": 4,
  "nbformat_minor": 0,
  "metadata": {
    "colab": {
      "provenance": [],
      "authorship_tag": "ABX9TyOyEO2GOM4v0/YVqGRGnkSR",
      "include_colab_link": true
    },
    "kernelspec": {
      "name": "python3",
      "display_name": "Python 3"
    },
    "language_info": {
      "name": "python"
    }
  },
  "cells": [
    {
      "cell_type": "markdown",
      "metadata": {
        "id": "view-in-github",
        "colab_type": "text"
      },
      "source": [
        "<a href=\"https://colab.research.google.com/github/jagadeep31/AWS-Assignments/blob/main/Assignment_4.ipynb\" target=\"_parent\"><img src=\"https://colab.research.google.com/assets/colab-badge.svg\" alt=\"Open In Colab\"/></a>"
      ]
    },
    {
      "cell_type": "code",
      "execution_count": 1,
      "metadata": {
        "colab": {
          "base_uri": "https://localhost:8080/"
        },
        "id": "AnUF67BxO5CQ",
        "outputId": "f6b0a349-f2e6-40de-ed8c-2ff121043f46"
      },
      "outputs": [
        {
          "output_type": "stream",
          "name": "stdout",
          "text": [
            "Upper case: GEETHA\n",
            "Lower case: geetha\n",
            "Capitalized: Geetha\n",
            "Replaced: GEEtha\n"
          ]
        }
      ],
      "source": [
        "# Define a string\n",
        "name = \"Geetha\"\n",
        "# Convert to upper case\n",
        "upper_case = name.upper()\n",
        "print(\"Upper case:\", upper_case)\n",
        "\n",
        "# Convert to lower case\n",
        "lower_case = name.lower()\n",
        "print(\"Lower case:\", lower_case)\n",
        "\n",
        "# Capitalize the string\n",
        "capitalized = name.capitalize()\n",
        "print(\"Capitalized:\", capitalized)\n",
        "\n",
        "# Replace 'e' with 'E'\n",
        "replaced = name.replace('e', 'E')\n",
        "print(\"Replaced:\", replaced)"
      ]
    },
    {
      "cell_type": "code",
      "source": [
        "# Define a list\n",
        "L = [1, 2, 3]\n",
        "\n",
        "# Extend the list\n",
        "L.extend([5, 6, 7])\n",
        "\n",
        "# Remove the 5th value\n",
        "del L[4]\n",
        "\n",
        "print(\"Extended list:\", L)"
      ],
      "metadata": {
        "colab": {
          "base_uri": "https://localhost:8080/"
        },
        "id": "XFq-a8_xPH2F",
        "outputId": "c9df7de6-6396-4765-973e-fdc4114ddd71"
      },
      "execution_count": 2,
      "outputs": [
        {
          "output_type": "stream",
          "name": "stdout",
          "text": [
            "Extended list: [1, 2, 3, 5, 7]\n"
          ]
        }
      ]
    },
    {
      "cell_type": "code",
      "source": [
        "# Define a dictionary\n",
        "d = {'mango': 10, 'banana': 0, 'apple': 15, 'orange': 0, 'pineapple': 20}\n",
        "\n",
        "# Remove out of stock fruits (value == 0)\n",
        "out_of_stock = [key for key, value in d.items() if value == 0]\n",
        "for fruit in out_of_stock:\n",
        "    del d[fruit]\n",
        "\n",
        "# Update mango quantity to 15 and decrease pineapple by 5\n",
        "d['mango'] = 15\n",
        "d['pineapple'] -= 5\n",
        "\n",
        "print(\"Updated dictionary:\", d)"
      ],
      "metadata": {
        "colab": {
          "base_uri": "https://localhost:8080/"
        },
        "id": "MNxDitMYPNDZ",
        "outputId": "4384d8de-5ded-45d7-c07c-01c6fdc1c6f6"
      },
      "execution_count": 3,
      "outputs": [
        {
          "output_type": "stream",
          "name": "stdout",
          "text": [
            "Updated dictionary: {'mango': 15, 'apple': 15, 'pineapple': 15}\n"
          ]
        }
      ]
    },
    {
      "cell_type": "code",
      "source": [
        "# Given list\n",
        "a = [2, 4, 6, 8, 10]\n",
        "\n",
        "# Problem 1\n",
        "a += [12, 14, 16, 18]\n",
        "print(a)"
      ],
      "metadata": {
        "colab": {
          "base_uri": "https://localhost:8080/"
        },
        "id": "qHe2HNOxPSQ9",
        "outputId": "5492cca3-e0a7-49e9-ed1c-e14c300d19ad"
      },
      "execution_count": 4,
      "outputs": [
        {
          "output_type": "stream",
          "name": "stdout",
          "text": [
            "[2, 4, 6, 8, 10, 12, 14, 16, 18]\n"
          ]
        }
      ]
    },
    {
      "cell_type": "code",
      "source": [
        "# Problem 2\n",
        "a[:] = [-i for i in a][::-1] + [0]\n",
        "print(a)"
      ],
      "metadata": {
        "colab": {
          "base_uri": "https://localhost:8080/"
        },
        "id": "t2Idwq5dPYrH",
        "outputId": "b661a45e-37d9-4c23-eb8a-f10689dca3f0"
      },
      "execution_count": 5,
      "outputs": [
        {
          "output_type": "stream",
          "name": "stdout",
          "text": [
            "[-18, -16, -14, -12, -10, -8, -6, -4, -2, 0]\n"
          ]
        }
      ]
    },
    {
      "cell_type": "code",
      "source": [
        "# Problem 3\n",
        "a[:] = [2, 3, 4, 5, 6, 7, 8, 10]\n",
        "print(a)"
      ],
      "metadata": {
        "colab": {
          "base_uri": "https://localhost:8080/"
        },
        "id": "iCxYVNIsPczt",
        "outputId": "42a7ab50-99d0-4995-912a-abaa5be44574"
      },
      "execution_count": 6,
      "outputs": [
        {
          "output_type": "stream",
          "name": "stdout",
          "text": [
            "[2, 3, 4, 5, 6, 7, 8, 10]\n"
          ]
        }
      ]
    },
    {
      "cell_type": "code",
      "source": [
        "# Problem 4\n",
        "a[3:3] = ['a', 'b', 'c']\n",
        "print(a)"
      ],
      "metadata": {
        "colab": {
          "base_uri": "https://localhost:8080/"
        },
        "id": "_137oiVHPhD-",
        "outputId": "145fdd95-b04b-4257-e9de-8a44a276037b"
      },
      "execution_count": 7,
      "outputs": [
        {
          "output_type": "stream",
          "name": "stdout",
          "text": [
            "[2, 3, 4, 'a', 'b', 'c', 5, 6, 7, 8, 10]\n"
          ]
        }
      ]
    },
    {
      "cell_type": "code",
      "source": [
        "# Problem 5\n",
        "a = a\n",
        "print(a)"
      ],
      "metadata": {
        "colab": {
          "base_uri": "https://localhost:8080/"
        },
        "id": "kB-08Ey2PlRD",
        "outputId": "87aa1a59-e8f6-4c0e-b7b2-c46d4f51474b"
      },
      "execution_count": 8,
      "outputs": [
        {
          "output_type": "stream",
          "name": "stdout",
          "text": [
            "[2, 3, 4, 'a', 'b', 'c', 5, 6, 7, 8, 10]\n"
          ]
        }
      ]
    },
    {
      "cell_type": "code",
      "source": [
        "# Problem 6\n",
        "a[0:0] = []\n",
        "print(a[0:0])"
      ],
      "metadata": {
        "colab": {
          "base_uri": "https://localhost:8080/"
        },
        "id": "q7uoeKGmPpCi",
        "outputId": "cf9d6723-b4b5-462f-84a1-109ab64539b2"
      },
      "execution_count": 9,
      "outputs": [
        {
          "output_type": "stream",
          "name": "stdout",
          "text": [
            "[]\n"
          ]
        }
      ]
    },
    {
      "cell_type": "code",
      "source": [
        "# Problem 7\n",
        "print(a[::-1])"
      ],
      "metadata": {
        "colab": {
          "base_uri": "https://localhost:8080/"
        },
        "id": "IEzjr-7BPthF",
        "outputId": "3c4a185e-2420-4d62-9b02-b13157fff572"
      },
      "execution_count": 10,
      "outputs": [
        {
          "output_type": "stream",
          "name": "stdout",
          "text": [
            "[10, 8, 7, 6, 5, 'c', 'b', 'a', 4, 3, 2]\n"
          ]
        }
      ]
    },
    {
      "cell_type": "code",
      "source": [
        "# Problem 8\n",
        "print(a[0:3])"
      ],
      "metadata": {
        "colab": {
          "base_uri": "https://localhost:8080/"
        },
        "id": "RXp_k0s1PxxB",
        "outputId": "2b322083-35fd-48e4-9356-a2dc277aab65"
      },
      "execution_count": 11,
      "outputs": [
        {
          "output_type": "stream",
          "name": "stdout",
          "text": [
            "[2, 3, 4]\n"
          ]
        }
      ]
    },
    {
      "cell_type": "code",
      "source": [
        "# Problem 9\n",
        "print(a[2:])"
      ],
      "metadata": {
        "colab": {
          "base_uri": "https://localhost:8080/"
        },
        "id": "XXlTXPXoP1ja",
        "outputId": "4a4ede26-0e7f-4713-fe11-4c5fce9e428d"
      },
      "execution_count": 12,
      "outputs": [
        {
          "output_type": "stream",
          "name": "stdout",
          "text": [
            "[4, 'a', 'b', 'c', 5, 6, 7, 8, 10]\n"
          ]
        }
      ]
    },
    {
      "cell_type": "code",
      "source": [
        "# Problem 10\n",
        "a[1:4] = []\n",
        "print(a)"
      ],
      "metadata": {
        "colab": {
          "base_uri": "https://localhost:8080/"
        },
        "id": "8Wzl9d-aP_VS",
        "outputId": "7505b140-3e1a-4633-c089-7ddeecace5cc"
      },
      "execution_count": 13,
      "outputs": [
        {
          "output_type": "stream",
          "name": "stdout",
          "text": [
            "[2, 'b', 'c', 5, 6, 7, 8, 10]\n"
          ]
        }
      ]
    },
    {
      "cell_type": "code",
      "source": [
        "# Problem 11\n",
        "print(a[1:4])"
      ],
      "metadata": {
        "colab": {
          "base_uri": "https://localhost:8080/"
        },
        "id": "gbGuW8IGQA52",
        "outputId": "735cbb3b-fb3c-40ac-9cd9-71e6f8e84139"
      },
      "execution_count": 14,
      "outputs": [
        {
          "output_type": "stream",
          "name": "stdout",
          "text": [
            "['b', 'c', 5]\n"
          ]
        }
      ]
    },
    {
      "cell_type": "code",
      "source": [
        "# Problem 12\n",
        "a[-1:] = a[1:] + [12, 14, 16, 18, 20]\n",
        "print(a)"
      ],
      "metadata": {
        "colab": {
          "base_uri": "https://localhost:8080/"
        },
        "id": "o6dpLxwqQE45",
        "outputId": "6f3cb648-6a0c-4fa6-c924-9307d2f2fc1f"
      },
      "execution_count": 15,
      "outputs": [
        {
          "output_type": "stream",
          "name": "stdout",
          "text": [
            "[2, 'b', 'c', 5, 6, 7, 8, 'b', 'c', 5, 6, 7, 8, 10, 12, 14, 16, 18, 20]\n"
          ]
        }
      ]
    }
  ]
}