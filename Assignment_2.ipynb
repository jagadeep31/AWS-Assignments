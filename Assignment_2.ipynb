{
  "nbformat": 4,
  "nbformat_minor": 0,
  "metadata": {
    "colab": {
      "provenance": [],
      "authorship_tag": "ABX9TyOR9GU4OmE9mcKQkNusOmB3",
      "include_colab_link": true
    },
    "kernelspec": {
      "name": "python3",
      "display_name": "Python 3"
    },
    "language_info": {
      "name": "python"
    }
  },
  "cells": [
    {
      "cell_type": "markdown",
      "metadata": {
        "id": "view-in-github",
        "colab_type": "text"
      },
      "source": [
        "<a href=\"https://colab.research.google.com/github/jagadeep31/AWS-Assignments/blob/main/Assignment_2.ipynb\" target=\"_parent\"><img src=\"https://colab.research.google.com/assets/colab-badge.svg\" alt=\"Open In Colab\"/></a>"
      ]
    },
    {
      "cell_type": "code",
      "execution_count": 1,
      "metadata": {
        "colab": {
          "base_uri": "https://localhost:8080/"
        },
        "id": "L70Xt2L4Mqe4",
        "outputId": "672804b8-bb5b-451a-9f10-759d7814d82d"
      },
      "outputs": [
        {
          "output_type": "stream",
          "name": "stdout",
          "text": [
            "Capitalize function: Hello world\n",
            "Replicated .upper() function: HELLO WORLD\n",
            "Replicated .lower() function: hello world\n"
          ]
        }
      ],
      "source": [
        "string = \"hello world\"\n",
        "capitalize_function = string.capitalize()\n",
        "upper_function = string.upper()\n",
        "lower_function = string.lower()\n",
        "print(\"Capitalize function:\", capitalize_function)\n",
        "print(\"Replicated .upper() function:\", upper_function)\n",
        "print(\"Replicated .lower() function:\", lower_function)"
      ]
    },
    {
      "cell_type": "code",
      "source": [
        "given_sequence = [1,2,34,65,1,2,65,66,44,33,22,87,123412,9,78,76]\n",
        "odd_sequence = [num for num in given_sequence if num % 2 != 0]\n",
        "print(\"Odd sequence:\", odd_sequence)\n"
      ],
      "metadata": {
        "colab": {
          "base_uri": "https://localhost:8080/"
        },
        "id": "KCediyUgNImc",
        "outputId": "167fa11b-6644-4f6d-d78d-5d5959bd5c69"
      },
      "execution_count": 2,
      "outputs": [
        {
          "output_type": "stream",
          "name": "stdout",
          "text": [
            "Odd sequence: [1, 65, 1, 65, 33, 87, 9]\n"
          ]
        }
      ]
    },
    {
      "cell_type": "code",
      "source": [
        "fruits = {'apple': 10, 'mango': 20, 'pineapple': 25, 'orange': 30, 'strawberry': 50, 'jackfruit': 10}\n",
        "\n",
        "fruits_more_than_20 = {key: value for key, value in fruits.items() if value > 20}\n",
        "print(\"Fruits with values more than 20:\", fruits_more_than_20)"
      ],
      "metadata": {
        "colab": {
          "base_uri": "https://localhost:8080/"
        },
        "id": "HMy4GCEdNNow",
        "outputId": "b6aa4308-0a85-4652-f6fb-97e6096eac8b"
      },
      "execution_count": 3,
      "outputs": [
        {
          "output_type": "stream",
          "name": "stdout",
          "text": [
            "Fruits with values more than 20: {'pineapple': 25, 'orange': 30, 'strawberry': 50}\n"
          ]
        }
      ]
    }
  ]
}