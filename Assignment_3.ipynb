{
  "nbformat": 4,
  "nbformat_minor": 0,
  "metadata": {
    "colab": {
      "provenance": [],
      "authorship_tag": "ABX9TyM1+NvT+4IFBWWygky0Bug/",
      "include_colab_link": true
    },
    "kernelspec": {
      "name": "python3",
      "display_name": "Python 3"
    },
    "language_info": {
      "name": "python"
    }
  },
  "cells": [
    {
      "cell_type": "markdown",
      "metadata": {
        "id": "view-in-github",
        "colab_type": "text"
      },
      "source": [
        "<a href=\"https://colab.research.google.com/github/jagadeep31/AWS-Assignments/blob/main/Assignment_3.ipynb\" target=\"_parent\"><img src=\"https://colab.research.google.com/assets/colab-badge.svg\" alt=\"Open In Colab\"/></a>"
      ]
    },
    {
      "cell_type": "code",
      "execution_count": 1,
      "metadata": {
        "colab": {
          "base_uri": "https://localhost:8080/"
        },
        "id": "OYm9pUrVNdey",
        "outputId": "2be28058-936d-415c-b708-91d51a776648"
      },
      "outputs": [
        {
          "output_type": "stream",
          "name": "stdout",
          "text": [
            "Concatenated string: Hello World\n"
          ]
        }
      ],
      "source": [
        "str1 = \"Hello\"\n",
        "str2 = \"World\"\n",
        "concatenated_string = str1 + \" \" + str2\n",
        "print(\"Concatenated string:\", concatenated_string)"
      ]
    },
    {
      "cell_type": "code",
      "source": [
        "name = \"Darshith\"\n",
        "age = 18\n",
        "formatted_string = \"Name: %s, Age: %d\" % (name, age)\n",
        "print(\"Formatted string:\", formatted_string)"
      ],
      "metadata": {
        "colab": {
          "base_uri": "https://localhost:8080/"
        },
        "id": "jXn4uloqNpVQ",
        "outputId": "6b6dcb06-e11c-423c-e8d8-98f4ca84218d"
      },
      "execution_count": 2,
      "outputs": [
        {
          "output_type": "stream",
          "name": "stdout",
          "text": [
            "Formatted string: Name: Darshith, Age: 18\n"
          ]
        }
      ]
    },
    {
      "cell_type": "code",
      "source": [
        "from string import Template\n",
        "template = Template(\"Name: $name, Age: $age\")\n",
        "formatted_string = template.substitute(name=name, age=age)\n",
        "print(\"Formatted string:\", formatted_string)"
      ],
      "metadata": {
        "colab": {
          "base_uri": "https://localhost:8080/"
        },
        "id": "iv2RMVUaNxUc",
        "outputId": "b4f325c5-90e6-4d1c-d705-09def7fa9f65"
      },
      "execution_count": 3,
      "outputs": [
        {
          "output_type": "stream",
          "name": "stdout",
          "text": [
            "Formatted string: Name: Darshith, Age: 18\n"
          ]
        }
      ]
    },
    {
      "cell_type": "code",
      "source": [
        "formatted_string = \"Name: {}, Age: {}\".format(name, age)\n",
        "print(\"Formatted string:\", formatted_string)"
      ],
      "metadata": {
        "colab": {
          "base_uri": "https://localhost:8080/"
        },
        "id": "YuEO23PMN4BK",
        "outputId": "f978528c-9bfa-4983-e7ed-30d014306041"
      },
      "execution_count": 4,
      "outputs": [
        {
          "output_type": "stream",
          "name": "stdout",
          "text": [
            "Formatted string: Name: Darshith, Age: 18\n"
          ]
        }
      ]
    },
    {
      "cell_type": "code",
      "source": [
        "result_add = 5 + 3\n",
        "print(\"Addition result:\", result_add)"
      ],
      "metadata": {
        "colab": {
          "base_uri": "https://localhost:8080/"
        },
        "id": "runrglFLN82d",
        "outputId": "1790e779-3910-4a3c-88a6-f5454acd0e10"
      },
      "execution_count": 5,
      "outputs": [
        {
          "output_type": "stream",
          "name": "stdout",
          "text": [
            "Addition result: 8\n"
          ]
        }
      ]
    },
    {
      "cell_type": "code",
      "source": [
        "result_sub = 9 - 2\n",
        "print(\"Subtraction result:\", result_sub)"
      ],
      "metadata": {
        "colab": {
          "base_uri": "https://localhost:8080/"
        },
        "id": "MLhhTh0GODCP",
        "outputId": "933b6755-765f-42cb-ef52-5b774cb2f29e"
      },
      "execution_count": 6,
      "outputs": [
        {
          "output_type": "stream",
          "name": "stdout",
          "text": [
            "Subtraction result: 7\n"
          ]
        }
      ]
    },
    {
      "cell_type": "code",
      "source": [
        "result_mul = 3 * 8\n",
        "print(\"Multiplication result:\", result_mul)"
      ],
      "metadata": {
        "colab": {
          "base_uri": "https://localhost:8080/"
        },
        "id": "UJq5MvRoOJ4i",
        "outputId": "2d0b260b-fbe1-4c70-8fd3-696331ab642e"
      },
      "execution_count": 7,
      "outputs": [
        {
          "output_type": "stream",
          "name": "stdout",
          "text": [
            "Multiplication result: 24\n"
          ]
        }
      ]
    },
    {
      "cell_type": "code",
      "source": [
        "result_div = 10 / 5\n",
        "print(\"Division result:\", result_div)"
      ],
      "metadata": {
        "colab": {
          "base_uri": "https://localhost:8080/"
        },
        "id": "zmRM1b3tOOv1",
        "outputId": "d09b85e2-e15d-41c9-f029-fd405ccd2cad"
      },
      "execution_count": 8,
      "outputs": [
        {
          "output_type": "stream",
          "name": "stdout",
          "text": [
            "Division result: 2.0\n"
          ]
        }
      ]
    },
    {
      "cell_type": "code",
      "source": [
        "result_exp = 3 ** 5\n",
        "print(\"Exponentiation result:\", result_exp)"
      ],
      "metadata": {
        "colab": {
          "base_uri": "https://localhost:8080/"
        },
        "id": "yC2qV_S_OSut",
        "outputId": "002230e3-7ac0-4c4a-c111-7c67361d893b"
      },
      "execution_count": 9,
      "outputs": [
        {
          "output_type": "stream",
          "name": "stdout",
          "text": [
            "Exponentiation result: 243\n"
          ]
        }
      ]
    },
    {
      "cell_type": "code",
      "source": [
        "result_mod = 24 % 2\n",
        "print(\"Modulus result:\", result_mod)"
      ],
      "metadata": {
        "colab": {
          "base_uri": "https://localhost:8080/"
        },
        "id": "QHSll46QOXR8",
        "outputId": "8dcb45a6-54fc-4d27-8152-651603ae878d"
      },
      "execution_count": 10,
      "outputs": [
        {
          "output_type": "stream",
          "name": "stdout",
          "text": [
            "Modulus result: 0\n"
          ]
        }
      ]
    },
    {
      "cell_type": "code",
      "source": [
        "x = 10\n",
        "x -= 3\n",
        "print(\"After subtraction assignment:\", x)"
      ],
      "metadata": {
        "colab": {
          "base_uri": "https://localhost:8080/"
        },
        "id": "Hh4CcdGiOcTS",
        "outputId": "8616b6db-5d24-44ca-da40-b00d5c3845a4"
      },
      "execution_count": 11,
      "outputs": [
        {
          "output_type": "stream",
          "name": "stdout",
          "text": [
            "After subtraction assignment: 7\n"
          ]
        }
      ]
    },
    {
      "cell_type": "code",
      "source": [
        "y = 5\n",
        "y *= 2\n",
        "print(\"After multiplication assignment:\", y)"
      ],
      "metadata": {
        "colab": {
          "base_uri": "https://localhost:8080/"
        },
        "id": "A11l7ka8Ohfj",
        "outputId": "ba72f9b2-a2f8-4790-d0d4-6594fd454761"
      },
      "execution_count": 12,
      "outputs": [
        {
          "output_type": "stream",
          "name": "stdout",
          "text": [
            "After multiplication assignment: 10\n"
          ]
        }
      ]
    },
    {
      "cell_type": "code",
      "source": [
        "z = 20\n",
        "z /= 4\n",
        "print(\"After division assignment:\", z)"
      ],
      "metadata": {
        "colab": {
          "base_uri": "https://localhost:8080/"
        },
        "id": "f74nNkjwOp7j",
        "outputId": "18941c1b-bd52-4860-8882-34aabcb19d6c"
      },
      "execution_count": 13,
      "outputs": [
        {
          "output_type": "stream",
          "name": "stdout",
          "text": [
            "After division assignment: 5.0\n"
          ]
        }
      ]
    }
  ]
}