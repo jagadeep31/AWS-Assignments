{
  "nbformat": 4,
  "nbformat_minor": 0,
  "metadata": {
    "colab": {
      "provenance": [],
      "authorship_tag": "ABX9TyPNPlDh5SCirs44gA5HY7G/",
      "include_colab_link": true
    },
    "kernelspec": {
      "name": "python3",
      "display_name": "Python 3"
    },
    "language_info": {
      "name": "python"
    }
  },
  "cells": [
    {
      "cell_type": "markdown",
      "metadata": {
        "id": "view-in-github",
        "colab_type": "text"
      },
      "source": [
        "<a href=\"https://colab.research.google.com/github/jagadeep31/AWS-Assignments/blob/main/Assignment_6.ipynb\" target=\"_parent\"><img src=\"https://colab.research.google.com/assets/colab-badge.svg\" alt=\"Open In Colab\"/></a>"
      ]
    },
    {
      "cell_type": "code",
      "execution_count": 1,
      "metadata": {
        "colab": {
          "base_uri": "https://localhost:8080/"
        },
        "id": "3Q0OawJ6RFVt",
        "outputId": "1fc7abe1-e670-4e35-d721-0752fb47cf9a"
      },
      "outputs": [
        {
          "output_type": "stream",
          "name": "stdout",
          "text": [
            "(4, 0)\n"
          ]
        }
      ],
      "source": [
        "def cow_bull(secret, guess):\n",
        "    cow = sum(s == g for s, g in zip(secret, guess))\n",
        "    bull = sum(g in secret for g in guess) - cow\n",
        "    return cow, bull\n",
        "\n",
        "# Example usage\n",
        "secret = \"hello\"\n",
        "guess = \"hallo\"\n",
        "print(cow_bull(secret, guess))"
      ]
    },
    {
      "cell_type": "code",
      "source": [
        "def is_palindrome(s):\n",
        "    return s == s[::-1]\n",
        "\n",
        "# Example usage\n",
        "print(is_palindrome(\"radar\"))\n",
        "print(is_palindrome(\"hello\"))"
      ],
      "metadata": {
        "colab": {
          "base_uri": "https://localhost:8080/"
        },
        "id": "3mXPIynWRQB8",
        "outputId": "2a754020-7deb-4b7c-b97e-f4f6270e140c"
      },
      "execution_count": 2,
      "outputs": [
        {
          "output_type": "stream",
          "name": "stdout",
          "text": [
            "True\n",
            "False\n"
          ]
        }
      ]
    },
    {
      "cell_type": "code",
      "source": [
        "def fibonacci(n):\n",
        "    fibo = [0, 1]\n",
        "    while len(fibo) < n:\n",
        "        fibo.append(fibo[-1] + fibo[-2])\n",
        "    return fibo[:n]\n",
        "\n",
        "# Example usage\n",
        "print(fibonacci(10))"
      ],
      "metadata": {
        "colab": {
          "base_uri": "https://localhost:8080/"
        },
        "id": "BN7fEcsXRUd0",
        "outputId": "8f998da0-0662-4ab4-cb2e-242bf3834f7f"
      },
      "execution_count": 3,
      "outputs": [
        {
          "output_type": "stream",
          "name": "stdout",
          "text": [
            "[0, 1, 1, 2, 3, 5, 8, 13, 21, 34]\n"
          ]
        }
      ]
    },
    {
      "cell_type": "code",
      "source": [
        "def my_range(start, stop=None, step=1):\n",
        "    if stop is None:\n",
        "        stop = start\n",
        "        start = 0\n",
        "    return list(range(start, stop, step))\n",
        "\n",
        "# Example usage\n",
        "print(my_range(5))\n",
        "print(my_range(2, 8, 2))"
      ],
      "metadata": {
        "colab": {
          "base_uri": "https://localhost:8080/"
        },
        "id": "h_3tWFjkRYlx",
        "outputId": "d74b6917-f2d8-4b08-ba13-e4129ffec1e4"
      },
      "execution_count": 4,
      "outputs": [
        {
          "output_type": "stream",
          "name": "stdout",
          "text": [
            "[0, 1, 2, 3, 4]\n",
            "[2, 4, 6]\n"
          ]
        }
      ]
    }
  ]
}